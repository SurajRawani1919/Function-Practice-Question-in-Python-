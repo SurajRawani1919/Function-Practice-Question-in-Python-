{
 "cells": [
  {
   "cell_type": "code",
   "execution_count": 1,
   "id": "6255e61f-55be-45b4-984b-b4420c3d1aee",
   "metadata": {},
   "outputs": [
    {
     "name": "stdout",
     "output_type": "stream",
     "text": [
      "Hello, World!\n"
     ]
    }
   ],
   "source": [
    "#1.Write a function greet() that prints \"Hello, World!\" when called.\n",
    "def greet():\n",
    "    print(\"Hello, World!\")\n",
    "greet()\n"
   ]
  },
  {
   "cell_type": "code",
   "execution_count": 1,
   "id": "b3aec1ee-71b6-49de-a12d-ee43b793f952",
   "metadata": {},
   "outputs": [
    {
     "data": {
      "text/plain": [
       "8"
      ]
     },
     "execution_count": 1,
     "metadata": {},
     "output_type": "execute_result"
    }
   ],
   "source": [
    "#2.Create a function add_numbers(a, b) that returns the sum of two numbers\n",
    "def add_numbers(a, b):\n",
    "    return a + b\n",
    "add_numbers(5, 3)\n"
   ]
  },
  {
   "cell_type": "code",
   "execution_count": 2,
   "id": "2b17e41c-ea63-483d-afe5-b4088cde26b9",
   "metadata": {},
   "outputs": [
    {
     "name": "stdout",
     "output_type": "stream",
     "text": [
      "True\n",
      "False\n"
     ]
    }
   ],
   "source": [
    "#3.Write a function is_even(num) that checks whether a given number is even and returns True orFalse.\n",
    "def is_even(num):\n",
    "    return num % 2 == 0\n",
    "\n",
    "print(is_even(6)) \n",
    "print(is_even(7))  \n"
   ]
  },
  {
   "cell_type": "code",
   "execution_count": 7,
   "id": "59559242-482e-4304-887e-21d1bd045045",
   "metadata": {},
   "outputs": [
    {
     "data": {
      "text/plain": [
       "4"
      ]
     },
     "execution_count": 7,
     "metadata": {},
     "output_type": "execute_result"
    }
   ],
   "source": [
    "#4.Define a function square(x) that returns the square of a number.\n",
    "def square(x):\n",
    "    return x * x\n",
    "#result = square(2)\n",
    "#print(\"The square of 5 is:\", result)\n",
    "square(2)"
   ]
  },
  {
   "cell_type": "code",
   "execution_count": 1,
   "id": "e9554cb7-0629-4e26-87c2-b8cb9ede3eeb",
   "metadata": {},
   "outputs": [
    {
     "name": "stdout",
     "output_type": "stream",
     "text": [
      "My name is Suraj Singh\n"
     ]
    }
   ],
   "source": [
    "#5.Create a function print_name(name) that takes a string and prints \"Your name is [name]\"\n",
    "def print_name(name):\n",
    "    print(f\"My name is {name}\")\n",
    "print_name(\"Suraj Singh\")\n"
   ]
  },
  {
   "cell_type": "code",
   "execution_count": 10,
   "id": "5b214e21-8e4b-447d-99a1-9c67f8a8bf8a",
   "metadata": {},
   "outputs": [
    {
     "data": {
      "text/plain": [
       "8"
      ]
     },
     "execution_count": 10,
     "metadata": {},
     "output_type": "execute_result"
    }
   ],
   "source": [
    "#6.Write a function multiply(x, y) that multiplies two numbers and returns the result.\n",
    "def multiply(x, y):\n",
    "    return x * y\n",
    "multiply(2, 4)\n",
    "\n",
    "#result =multiply(6, 7)\n",
    "#print(\"The result of multiplication is:\", result)\n"
   ]
  },
  {
   "cell_type": "code",
   "execution_count": 11,
   "id": "1c02f513-99b2-49eb-a206-2b1ee578a966",
   "metadata": {},
   "outputs": [
    {
     "data": {
      "text/plain": [
       "15"
      ]
     },
     "execution_count": 11,
     "metadata": {},
     "output_type": "execute_result"
    }
   ],
   "source": [
    "#7.Create a function max_of_two(a, b) that returns the larger of two numbers.\n",
    "def max_of_two(a, b):\n",
    "    if a > b:\n",
    "        return a\n",
    "    else:\n",
    "        return b\n",
    "\n",
    "max_of_two(10, 15)\n",
    "\n"
   ]
  },
  {
   "cell_type": "code",
   "execution_count": 6,
   "id": "364d24e2-5879-478c-ac21-b9474b30ee8a",
   "metadata": {},
   "outputs": [
    {
     "ename": "NameError",
     "evalue": "name 'result' is not defined",
     "output_type": "error",
     "traceback": [
      "\u001b[1;31m---------------------------------------------------------------------------\u001b[0m",
      "\u001b[1;31mNameError\u001b[0m                                 Traceback (most recent call last)",
      "Cell \u001b[1;32mIn[6], line 8\u001b[0m\n\u001b[0;32m      5\u001b[0m         fact \u001b[38;5;241m=\u001b[39m fact\u001b[38;5;241m*\u001b[39mi\n\u001b[0;32m      6\u001b[0m     \u001b[38;5;28;01mreturn\u001b[39;00m result\n\u001b[1;32m----> 8\u001b[0m result \u001b[38;5;241m=\u001b[39m \u001b[43mfactorial\u001b[49m\u001b[43m(\u001b[49m\u001b[38;5;241;43m5\u001b[39;49m\u001b[43m)\u001b[49m\n\u001b[0;32m      9\u001b[0m \u001b[38;5;28mprint\u001b[39m(\u001b[38;5;124m\"\u001b[39m\u001b[38;5;124mThe factorial of 5 is:\u001b[39m\u001b[38;5;124m\"\u001b[39m, result)\n",
      "Cell \u001b[1;32mIn[6], line 6\u001b[0m, in \u001b[0;36mfactorial\u001b[1;34m(n)\u001b[0m\n\u001b[0;32m      4\u001b[0m \u001b[38;5;28;01mfor\u001b[39;00m i \u001b[38;5;129;01min\u001b[39;00m \u001b[38;5;28mrange\u001b[39m(\u001b[38;5;241m2\u001b[39m, n \u001b[38;5;241m+\u001b[39m \u001b[38;5;241m1\u001b[39m):\n\u001b[0;32m      5\u001b[0m     fact \u001b[38;5;241m=\u001b[39m fact\u001b[38;5;241m*\u001b[39mi\n\u001b[1;32m----> 6\u001b[0m \u001b[38;5;28;01mreturn\u001b[39;00m \u001b[43mresult\u001b[49m\n",
      "\u001b[1;31mNameError\u001b[0m: name 'result' is not defined"
     ]
    }
   ],
   "source": [
    "#8.Write a function factorial(n) that returns the factorial of a number n.\n",
    "def factorial(n):\n",
    "    fact = 1\n",
    "    for i in range(2, n + 1):\n",
    "        fact = fact*i\n",
    "    return result\n",
    "\n",
    "result = factorial(5)\n",
    "print(\"The factorial of 5 is:\", result)\n"
   ]
  },
  {
   "cell_type": "code",
   "execution_count": 15,
   "id": "248ff71b-8b37-435a-b9ec-ff7fbe6e2f92",
   "metadata": {},
   "outputs": [
    {
     "data": {
      "text/plain": [
       "2"
      ]
     },
     "execution_count": 15,
     "metadata": {},
     "output_type": "execute_result"
    }
   ],
   "source": [
    "#9.Define a function count_vowels(s) that counts and returns the number of vowels in a given string\n",
    "def count_vowels(s):\n",
    "    vowels = \"aeiouAEIOU\"\n",
    "    count = 0\n",
    "    for char in s:\n",
    "        if char in vowels:\n",
    "            count += 1\n",
    "    return count\n",
    "\n",
    "count_vowels(\"Suraj\")\n",
    "\n"
   ]
  },
  {
   "cell_type": "code",
   "execution_count": 4,
   "id": "54f7c181-7899-4b31-b8c9-26dd6923bd3f",
   "metadata": {},
   "outputs": [
    {
     "name": "stdout",
     "output_type": "stream",
     "text": [
      "Reversed string: jaruS\n"
     ]
    }
   ],
   "source": [
    "#10.Write a function reverse_string(s) that takes a string and returns it reversed.\n",
    "def reverse_string(s):\n",
    "    return s[::-1]\n",
    "    \n",
    "result = reverse_string(\"Suraj\")\n",
    "print(\"Reversed string:\", result)\n"
   ]
  },
  {
   "cell_type": "code",
   "execution_count": null,
   "id": "a8aa67a5-b11b-4f57-993e-cf3a493f635d",
   "metadata": {},
   "outputs": [],
   "source": [
    "#11.Create a function is_palindrome(word) that checks if a given word is a palindrome (reads the samebackward as forward)\n"
   ]
  },
  {
   "cell_type": "code",
   "execution_count": 3,
   "id": "e65039cc-1c0e-4eeb-994e-b31524cac47f",
   "metadata": {},
   "outputs": [
    {
     "data": {
      "text/plain": [
       "37.0"
      ]
     },
     "execution_count": 3,
     "metadata": {},
     "output_type": "execute_result"
    }
   ],
   "source": [
    "#12.Write a function fahrenheit_to_celsius(f) that converts a temperature from Fahrenheit to Celsius.\n",
    "def fahrenheit_to_celsius(f):\n",
    "    celsius = (f - 32) * 5 / 9\n",
    "    return celsius\n",
    "\n",
    "fahrenheit_to_celsius(98.6)\n",
    "\n"
   ]
  },
  {
   "cell_type": "code",
   "execution_count": 19,
   "id": "3fd1c914-b460-4daf-b3ba-7d84e06e64db",
   "metadata": {},
   "outputs": [
    {
     "data": {
      "text/plain": [
       "15"
      ]
     },
     "execution_count": 19,
     "metadata": {},
     "output_type": "execute_result"
    }
   ],
   "source": [
    "#13.Define a function sum_of_list(lst) that returns the sum of all elements in a list.\n",
    "def sum_of_list(lst):\n",
    "    sum = 0\n",
    "    for num in lst:\n",
    "        sum += num\n",
    "    return sum\n",
    "\n",
    "sum_of_list([1, 2, 3, 4, 5])\n",
    "\n"
   ]
  },
  {
   "cell_type": "code",
   "execution_count": 24,
   "id": "b43dc6f1-f8fd-4452-8224-1fb80cbad976",
   "metadata": {},
   "outputs": [
    {
     "name": "stdout",
     "output_type": "stream",
     "text": [
      "Smallest element is: 4\n"
     ]
    }
   ],
   "source": [
    "#14.Create a function find_min(lst) that returns the smallest number in a list.\n",
    "def find_min(lst):\n",
    "    lst.sort()  \n",
    "    return lst[0]  \n",
    "    \n",
    "list1 = [10, 20, 4, 45, 99]\n",
    "smallest = find_min(list1)\n",
    "print(\"Smallest element is:\", smallest)\n"
   ]
  },
  {
   "cell_type": "code",
   "execution_count": 5,
   "id": "06015150-3919-4fba-a30a-5d403e13b311",
   "metadata": {},
   "outputs": [
    {
     "name": "stdout",
     "output_type": "stream",
     "text": [
      "10\n"
     ]
    }
   ],
   "source": [
    "#15.Write a function is_prime(n) that checks whether a given number n is a prime number.\n",
    "def find_min(a):\n",
    "    min=a[0]\n",
    "    for i in a:\n",
    "        if i<min:\n",
    "            min=1\n",
    "    print(min)\n",
    "find_min([10,20,30])"
   ]
  },
  {
   "cell_type": "code",
   "execution_count": 14,
   "id": "8ac0a66a-3460-4166-84c9-a7220f2dae2c",
   "metadata": {},
   "outputs": [
    {
     "name": "stdout",
     "output_type": "stream",
     "text": [
      "14\n"
     ]
    }
   ],
   "source": [
    "#16.Define a function sum_of_squares(lst) that returns the sum of the squares of the numbers in a list.\n",
    "\n",
    "def sum_of_squares(lst):\n",
    "    sum_squares = 0\n",
    "    for num in lst:\n",
    "        sum_squares += num**2\n",
    "    return sum_squares\n",
    "    \n",
    "result = sum_of_squares([1, 2, 3])\n",
    "print(result)  # Output: 14\n"
   ]
  },
  {
   "cell_type": "code",
   "execution_count": 16,
   "id": "af127837-f0d4-4dd1-a4ac-4ab2b9154387",
   "metadata": {},
   "outputs": [
    {
     "data": {
      "text/plain": [
       "1"
      ]
     },
     "execution_count": 16,
     "metadata": {},
     "output_type": "execute_result"
    }
   ],
   "source": [
    "#17.Create a function gcd(x, y) that returns the greatest common divisor of two numbers.\n",
    "def gcd(x, y):\n",
    "    while y:\n",
    "        x, y = y, x % y\n",
    "    return x\n",
    "gcd(4,5)"
   ]
  },
  {
   "cell_type": "code",
   "execution_count": 19,
   "id": "741fcf2e-3baf-4917-8513-3abdb22715ac",
   "metadata": {},
   "outputs": [
    {
     "data": {
      "text/plain": [
       "2"
      ]
     },
     "execution_count": 19,
     "metadata": {},
     "output_type": "execute_result"
    }
   ],
   "source": [
    "#18.Write a function count_occurrences(lit, value) that counts how many times a value occurs in a list.\n",
    "def count_occurrences(lst, value):\n",
    "    count = 0\n",
    "    for item in lst:\n",
    "        if item == value:\n",
    "            count += 1\n",
    "    return count\n",
    "count_occurrences([1,2,3,2,4,5,6],2)"
   ]
  },
  {
   "cell_type": "code",
   "execution_count": 20,
   "id": "5ef8ef08-15f1-4509-b5b4-e3f110a5c02e",
   "metadata": {},
   "outputs": [
    {
     "data": {
      "text/plain": [
       "'Hello World! This Is A Test.'"
      ]
     },
     "execution_count": 20,
     "metadata": {},
     "output_type": "execute_result"
    }
   ],
   "source": [
    "#19.Define a function capitalize_words(sentence) that capitalizes the first letter of every word in a sentence.\n",
    "\n",
    "def capitalize_words(sentence):\n",
    "    return ' '.join(word.capitalize() for word in sentence.split())\n",
    "capitalize_words(\"hello world! this is a test.\")"
   ]
  },
  {
   "cell_type": "code",
   "execution_count": 21,
   "id": "14fac6d7-a44d-477a-afc4-c09371bac1ab",
   "metadata": {},
   "outputs": [
    {
     "data": {
      "text/plain": [
       "[1, 2, 3, 4, 5]"
      ]
     },
     "execution_count": 21,
     "metadata": {},
     "output_type": "execute_result"
    }
   ],
   "source": [
    "#20.Create a function remove_duplicates(lst) that removes duplicate elements from a list and returns the unique elements.\n",
    "def remove_duplicates(lst):\n",
    "    return list(set(lst))\n",
    "remove_duplicates([1, 2, 3, 2, 4, 3, 5])"
   ]
  },
  {
   "cell_type": "code",
   "execution_count": null,
   "id": "00d786ec-9d73-4fce-a50c-5bbe950a4817",
   "metadata": {},
   "outputs": [],
   "source": []
  }
 ],
 "metadata": {
  "kernelspec": {
   "display_name": "Python 3 (ipykernel)",
   "language": "python",
   "name": "python3"
  },
  "language_info": {
   "codemirror_mode": {
    "name": "ipython",
    "version": 3
   },
   "file_extension": ".py",
   "mimetype": "text/x-python",
   "name": "python",
   "nbconvert_exporter": "python",
   "pygments_lexer": "ipython3",
   "version": "3.10.11"
  }
 },
 "nbformat": 4,
 "nbformat_minor": 5
}
